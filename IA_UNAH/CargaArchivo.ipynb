{
 "cells": [
  {
   "cell_type": "code",
   "execution_count": 3,
   "id": "d80b672a-19e5-4626-b114-df62714a4f8c",
   "metadata": {},
   "outputs": [],
   "source": [
    "import pandas as pd\n",
    "import numpy as py\n",
    "import matplotlib.pyplot as plt"
   ]
  },
  {
   "cell_type": "code",
   "execution_count": 5,
   "id": "01bfeae3-f5c2-49a4-8d35-41f691936b8e",
   "metadata": {},
   "outputs": [],
   "source": [
    "df_nombres = pd.read_csv('nombres.csv')"
   ]
  },
  {
   "cell_type": "code",
   "execution_count": 6,
   "id": "35600b6c-b5a7-41eb-a2c9-ae512331ea0c",
   "metadata": {},
   "outputs": [
    {
     "data": {
      "text/html": [
       "<div>\n",
       "<style scoped>\n",
       "    .dataframe tbody tr th:only-of-type {\n",
       "        vertical-align: middle;\n",
       "    }\n",
       "\n",
       "    .dataframe tbody tr th {\n",
       "        vertical-align: top;\n",
       "    }\n",
       "\n",
       "    .dataframe thead th {\n",
       "        text-align: right;\n",
       "    }\n",
       "</style>\n",
       "<table border=\"1\" class=\"dataframe\">\n",
       "  <thead>\n",
       "    <tr style=\"text-align: right;\">\n",
       "      <th></th>\n",
       "      <th>year</th>\n",
       "      <th>quantity</th>\n",
       "    </tr>\n",
       "  </thead>\n",
       "  <tbody>\n",
       "    <tr>\n",
       "      <th>count</th>\n",
       "      <td>5.933561e+06</td>\n",
       "      <td>5.933561e+06</td>\n",
       "    </tr>\n",
       "    <tr>\n",
       "      <th>mean</th>\n",
       "      <td>1.974491e+03</td>\n",
       "      <td>5.193854e+01</td>\n",
       "    </tr>\n",
       "    <tr>\n",
       "      <th>std</th>\n",
       "      <td>3.032410e+01</td>\n",
       "      <td>1.774408e+02</td>\n",
       "    </tr>\n",
       "    <tr>\n",
       "      <th>min</th>\n",
       "      <td>1.910000e+03</td>\n",
       "      <td>5.000000e+00</td>\n",
       "    </tr>\n",
       "    <tr>\n",
       "      <th>25%</th>\n",
       "      <td>1.951000e+03</td>\n",
       "      <td>7.000000e+00</td>\n",
       "    </tr>\n",
       "    <tr>\n",
       "      <th>50%</th>\n",
       "      <td>1.979000e+03</td>\n",
       "      <td>1.300000e+01</td>\n",
       "    </tr>\n",
       "    <tr>\n",
       "      <th>75%</th>\n",
       "      <td>2.001000e+03</td>\n",
       "      <td>3.300000e+01</td>\n",
       "    </tr>\n",
       "    <tr>\n",
       "      <th>max</th>\n",
       "      <td>2.017000e+03</td>\n",
       "      <td>1.002000e+04</td>\n",
       "    </tr>\n",
       "  </tbody>\n",
       "</table>\n",
       "</div>"
      ],
      "text/plain": [
       "               year      quantity\n",
       "count  5.933561e+06  5.933561e+06\n",
       "mean   1.974491e+03  5.193854e+01\n",
       "std    3.032410e+01  1.774408e+02\n",
       "min    1.910000e+03  5.000000e+00\n",
       "25%    1.951000e+03  7.000000e+00\n",
       "50%    1.979000e+03  1.300000e+01\n",
       "75%    2.001000e+03  3.300000e+01\n",
       "max    2.017000e+03  1.002000e+04"
      ]
     },
     "execution_count": 6,
     "metadata": {},
     "output_type": "execute_result"
    }
   ],
   "source": [
    "df_nombres.describe()"
   ]
  },
  {
   "cell_type": "code",
   "execution_count": 20,
   "id": "fd5727a9-256d-4865-aa9d-fac55c5995b6",
   "metadata": {},
   "outputs": [
    {
     "data": {
      "text/html": [
       "<div>\n",
       "<style scoped>\n",
       "    .dataframe tbody tr th:only-of-type {\n",
       "        vertical-align: middle;\n",
       "    }\n",
       "\n",
       "    .dataframe tbody tr th {\n",
       "        vertical-align: top;\n",
       "    }\n",
       "\n",
       "    .dataframe thead th {\n",
       "        text-align: right;\n",
       "    }\n",
       "</style>\n",
       "<table border=\"1\" class=\"dataframe\">\n",
       "  <thead>\n",
       "    <tr style=\"text-align: right;\">\n",
       "      <th></th>\n",
       "      <th>state</th>\n",
       "      <th>sex</th>\n",
       "      <th>year</th>\n",
       "      <th>name</th>\n",
       "      <th>quantity</th>\n",
       "    </tr>\n",
       "  </thead>\n",
       "  <tbody>\n",
       "    <tr>\n",
       "      <th>0</th>\n",
       "      <td>MO</td>\n",
       "      <td>F</td>\n",
       "      <td>1910</td>\n",
       "      <td>Mary</td>\n",
       "      <td>611</td>\n",
       "    </tr>\n",
       "    <tr>\n",
       "      <th>1</th>\n",
       "      <td>MO</td>\n",
       "      <td>F</td>\n",
       "      <td>1910</td>\n",
       "      <td>Helen</td>\n",
       "      <td>313</td>\n",
       "    </tr>\n",
       "    <tr>\n",
       "      <th>2</th>\n",
       "      <td>MO</td>\n",
       "      <td>F</td>\n",
       "      <td>1910</td>\n",
       "      <td>Dorothy</td>\n",
       "      <td>270</td>\n",
       "    </tr>\n",
       "    <tr>\n",
       "      <th>3</th>\n",
       "      <td>MO</td>\n",
       "      <td>F</td>\n",
       "      <td>1910</td>\n",
       "      <td>Mildred</td>\n",
       "      <td>267</td>\n",
       "    </tr>\n",
       "    <tr>\n",
       "      <th>4</th>\n",
       "      <td>MO</td>\n",
       "      <td>F</td>\n",
       "      <td>1910</td>\n",
       "      <td>Ruth</td>\n",
       "      <td>237</td>\n",
       "    </tr>\n",
       "  </tbody>\n",
       "</table>\n",
       "</div>"
      ],
      "text/plain": [
       "  state sex  year     name  quantity\n",
       "0    MO   F  1910     Mary       611\n",
       "1    MO   F  1910    Helen       313\n",
       "2    MO   F  1910  Dorothy       270\n",
       "3    MO   F  1910  Mildred       267\n",
       "4    MO   F  1910     Ruth       237"
      ]
     },
     "execution_count": 20,
     "metadata": {},
     "output_type": "execute_result"
    }
   ],
   "source": [
    "df_nombres.head()"
   ]
  },
  {
   "cell_type": "code",
   "execution_count": 22,
   "id": "15d641ed-c2bb-43d3-b61c-4745889c88a6",
   "metadata": {},
   "outputs": [
    {
     "data": {
      "text/plain": [
       "<Axes: >"
      ]
     },
     "execution_count": 22,
     "metadata": {},
     "output_type": "execute_result"
    }
   ],
   "source": [
    "df_nombres.boxplot()"
   ]
  },
  {
   "cell_type": "code",
   "execution_count": null,
   "id": "516e8c6b-9b49-470c-be1e-0df3e1e5f8cd",
   "metadata": {},
   "outputs": [],
   "source": [
    "#media\n",
    "df_nombres.mean() "
   ]
  },
  {
   "cell_type": "code",
   "execution_count": null,
   "id": "bcdbdb50-18e7-4dce-b894-b69116c52373",
   "metadata": {},
   "outputs": [],
   "source": [
    "#mediana\n",
    "df_nombres.median()"
   ]
  },
  {
   "cell_type": "code",
   "execution_count": null,
   "id": "50e0682d-d38f-40f2-81b3-07ef2674b369",
   "metadata": {},
   "outputs": [],
   "source": [
    "#moda\n",
    "df_nombres.mode()"
   ]
  },
  {
   "cell_type": "code",
   "execution_count": null,
   "id": "1e0ff7a7-5e4e-4dc6-af71-eea6a2b35fd8",
   "metadata": {},
   "outputs": [],
   "source": [
    "#correlacionados\n",
    "df_nombres.corr()"
   ]
  },
  {
   "cell_type": "code",
   "execution_count": null,
   "id": "ad3b25ed-d9ab-45ba-b13b-19df782a8205",
   "metadata": {},
   "outputs": [],
   "source": [
    "df_nombres.head()"
   ]
  },
  {
   "cell_type": "code",
   "execution_count": null,
   "id": "ef4f489e-3c79-463b-9892-4c02d9ec7b20",
   "metadata": {},
   "outputs": [],
   "source": [
    "df_nombres['cantidad']"
   ]
  },
  {
   "cell_type": "code",
   "execution_count": null,
   "id": "2b31f529-d1f8-49ed-b278-61dbe8f9b2d7",
   "metadata": {},
   "outputs": [],
   "source": [
    "columnas = ['year', 'name', 'quantity']\n",
    "df_nombres[columnas]"
   ]
  },
  {
   "cell_type": "code",
   "execution_count": null,
   "id": "134e29bc-6c9c-43df-b1f9-b0c23ad6b492",
   "metadata": {},
   "outputs": [],
   "source": [
    "nvo_df = df_nombres[columnas]"
   ]
  },
  {
   "cell_type": "code",
   "execution_count": null,
   "id": "8f73b60d-ba69-4f0a-bb8b-6241b47ff15d",
   "metadata": {},
   "outputs": [],
   "source": [
    "df_nombres['quantity'].median()"
   ]
  },
  {
   "cell_type": "code",
   "execution_count": 11,
   "id": "26672d3e-e4d6-4a44-abe5-9e13da24bcb1",
   "metadata": {},
   "outputs": [
    {
     "data": {
      "text/plain": [
       "(5933561, 5)"
      ]
     },
     "execution_count": 11,
     "metadata": {},
     "output_type": "execute_result"
    }
   ],
   "source": [
    "df_nombres.shape"
   ]
  },
  {
   "cell_type": "code",
   "execution_count": 13,
   "id": "a57e5a1a-bdc3-4adf-a8fa-2528a9ccb014",
   "metadata": {},
   "outputs": [
    {
     "data": {
      "text/html": [
       "<div>\n",
       "<style scoped>\n",
       "    .dataframe tbody tr th:only-of-type {\n",
       "        vertical-align: middle;\n",
       "    }\n",
       "\n",
       "    .dataframe tbody tr th {\n",
       "        vertical-align: top;\n",
       "    }\n",
       "\n",
       "    .dataframe thead th {\n",
       "        text-align: right;\n",
       "    }\n",
       "</style>\n",
       "<table border=\"1\" class=\"dataframe\">\n",
       "  <thead>\n",
       "    <tr style=\"text-align: right;\">\n",
       "      <th></th>\n",
       "      <th>state</th>\n",
       "      <th>sex</th>\n",
       "      <th>year</th>\n",
       "      <th>name</th>\n",
       "      <th>quantity</th>\n",
       "    </tr>\n",
       "  </thead>\n",
       "  <tbody>\n",
       "    <tr>\n",
       "      <th>0</th>\n",
       "      <td>MO</td>\n",
       "      <td>F</td>\n",
       "      <td>1910</td>\n",
       "      <td>Mary</td>\n",
       "      <td>611</td>\n",
       "    </tr>\n",
       "    <tr>\n",
       "      <th>1</th>\n",
       "      <td>MO</td>\n",
       "      <td>F</td>\n",
       "      <td>1910</td>\n",
       "      <td>Helen</td>\n",
       "      <td>313</td>\n",
       "    </tr>\n",
       "    <tr>\n",
       "      <th>2</th>\n",
       "      <td>MO</td>\n",
       "      <td>F</td>\n",
       "      <td>1910</td>\n",
       "      <td>Dorothy</td>\n",
       "      <td>270</td>\n",
       "    </tr>\n",
       "    <tr>\n",
       "      <th>3</th>\n",
       "      <td>MO</td>\n",
       "      <td>F</td>\n",
       "      <td>1910</td>\n",
       "      <td>Mildred</td>\n",
       "      <td>267</td>\n",
       "    </tr>\n",
       "    <tr>\n",
       "      <th>4</th>\n",
       "      <td>MO</td>\n",
       "      <td>F</td>\n",
       "      <td>1910</td>\n",
       "      <td>Ruth</td>\n",
       "      <td>237</td>\n",
       "    </tr>\n",
       "  </tbody>\n",
       "</table>\n",
       "</div>"
      ],
      "text/plain": [
       "  state sex  year     name  quantity\n",
       "0    MO   F  1910     Mary       611\n",
       "1    MO   F  1910    Helen       313\n",
       "2    MO   F  1910  Dorothy       270\n",
       "3    MO   F  1910  Mildred       267\n",
       "4    MO   F  1910     Ruth       237"
      ]
     },
     "execution_count": 13,
     "metadata": {},
     "output_type": "execute_result"
    }
   ],
   "source": [
    "df_nombres.head()"
   ]
  },
  {
   "cell_type": "code",
   "execution_count": 15,
   "id": "db858fd4-bf9e-4255-96f3-651d63d7f2e7",
   "metadata": {},
   "outputs": [
    {
     "data": {
      "text/plain": [
       "0          611\n",
       "1          313\n",
       "2          270\n",
       "3          267\n",
       "4          237\n",
       "          ... \n",
       "5933556      5\n",
       "5933557      5\n",
       "5933558      5\n",
       "5933559      5\n",
       "5933560      5\n",
       "Name: quantity, Length: 5933561, dtype: int64"
      ]
     },
     "execution_count": 15,
     "metadata": {},
     "output_type": "execute_result"
    }
   ],
   "source": [
    "df_nombres.iloc[:,4]"
   ]
  },
  {
   "cell_type": "code",
   "execution_count": 17,
   "id": "ef46378c-bf6d-4edf-8b34-4af089777e39",
   "metadata": {},
   "outputs": [
    {
     "data": {
      "text/plain": [
       "1    1910\n",
       "2    1910\n",
       "Name: year, dtype: int64"
      ]
     },
     "execution_count": 17,
     "metadata": {},
     "output_type": "execute_result"
    }
   ],
   "source": [
    "df_nombres.iloc[1:3, 2]"
   ]
  },
  {
   "cell_type": "code",
   "execution_count": 19,
   "id": "c9c44483-d671-4e5c-ac16-a338e4d72af5",
   "metadata": {},
   "outputs": [
    {
     "data": {
      "text/plain": [
       "0          F\n",
       "1          F\n",
       "2          F\n",
       "3          F\n",
       "4          F\n",
       "          ..\n",
       "5933556    M\n",
       "5933557    M\n",
       "5933558    M\n",
       "5933559    M\n",
       "5933560    M\n",
       "Name: sex, Length: 5933561, dtype: object"
      ]
     },
     "execution_count": 19,
     "metadata": {},
     "output_type": "execute_result"
    }
   ],
   "source": [
    "df_nombres['sex']"
   ]
  },
  {
   "cell_type": "code",
   "execution_count": 21,
   "id": "adb7e65f-63d3-4d11-bb08-e36e8403ddc1",
   "metadata": {},
   "outputs": [
    {
     "data": {
      "text/plain": [
       "0          F\n",
       "1          F\n",
       "2          F\n",
       "3          F\n",
       "4          F\n",
       "          ..\n",
       "5933556    M\n",
       "5933557    M\n",
       "5933558    M\n",
       "5933559    M\n",
       "5933560    M\n",
       "Name: sex, Length: 5933561, dtype: object"
      ]
     },
     "execution_count": 21,
     "metadata": {},
     "output_type": "execute_result"
    }
   ],
   "source": [
    "df_nombres.loc[:, 'sex']"
   ]
  },
  {
   "cell_type": "code",
   "execution_count": 23,
   "id": "d1d6394c-7aad-4362-9eec-376a11bf24c7",
   "metadata": {},
   "outputs": [
    {
     "data": {
      "text/html": [
       "<div>\n",
       "<style scoped>\n",
       "    .dataframe tbody tr th:only-of-type {\n",
       "        vertical-align: middle;\n",
       "    }\n",
       "\n",
       "    .dataframe tbody tr th {\n",
       "        vertical-align: top;\n",
       "    }\n",
       "\n",
       "    .dataframe thead th {\n",
       "        text-align: right;\n",
       "    }\n",
       "</style>\n",
       "<table border=\"1\" class=\"dataframe\">\n",
       "  <thead>\n",
       "    <tr style=\"text-align: right;\">\n",
       "      <th></th>\n",
       "      <th>state</th>\n",
       "      <th>quantity</th>\n",
       "    </tr>\n",
       "  </thead>\n",
       "  <tbody>\n",
       "    <tr>\n",
       "      <th>1</th>\n",
       "      <td>MO</td>\n",
       "      <td>313</td>\n",
       "    </tr>\n",
       "    <tr>\n",
       "      <th>2</th>\n",
       "      <td>MO</td>\n",
       "      <td>270</td>\n",
       "    </tr>\n",
       "    <tr>\n",
       "      <th>3</th>\n",
       "      <td>MO</td>\n",
       "      <td>267</td>\n",
       "    </tr>\n",
       "    <tr>\n",
       "      <th>4</th>\n",
       "      <td>MO</td>\n",
       "      <td>237</td>\n",
       "    </tr>\n",
       "    <tr>\n",
       "      <th>5</th>\n",
       "      <td>MO</td>\n",
       "      <td>218</td>\n",
       "    </tr>\n",
       "  </tbody>\n",
       "</table>\n",
       "</div>"
      ],
      "text/plain": [
       "  state  quantity\n",
       "1    MO       313\n",
       "2    MO       270\n",
       "3    MO       267\n",
       "4    MO       237\n",
       "5    MO       218"
      ]
     },
     "execution_count": 23,
     "metadata": {},
     "output_type": "execute_result"
    }
   ],
   "source": [
    "df_nombres.loc[1:5, ['state', 'quantity']]"
   ]
  },
  {
   "cell_type": "code",
   "execution_count": 31,
   "id": "b3d673d6-516f-4c2f-b8ca-e9a35a90a1f8",
   "metadata": {},
   "outputs": [
    {
     "data": {
      "text/html": [
       "<div>\n",
       "<style scoped>\n",
       "    .dataframe tbody tr th:only-of-type {\n",
       "        vertical-align: middle;\n",
       "    }\n",
       "\n",
       "    .dataframe tbody tr th {\n",
       "        vertical-align: top;\n",
       "    }\n",
       "\n",
       "    .dataframe thead th {\n",
       "        text-align: right;\n",
       "    }\n",
       "</style>\n",
       "<table border=\"1\" class=\"dataframe\">\n",
       "  <thead>\n",
       "    <tr style=\"text-align: right;\">\n",
       "      <th></th>\n",
       "      <th>state</th>\n",
       "      <th>sex</th>\n",
       "      <th>year</th>\n",
       "      <th>name</th>\n",
       "      <th>quantity</th>\n",
       "    </tr>\n",
       "  </thead>\n",
       "  <tbody>\n",
       "    <tr>\n",
       "      <th>4681767</th>\n",
       "      <td>NY</td>\n",
       "      <td>M</td>\n",
       "      <td>1911</td>\n",
       "      <td>Helen</td>\n",
       "      <td>10</td>\n",
       "    </tr>\n",
       "    <tr>\n",
       "      <th>4690456</th>\n",
       "      <td>NY</td>\n",
       "      <td>M</td>\n",
       "      <td>1925</td>\n",
       "      <td>Helen</td>\n",
       "      <td>10</td>\n",
       "    </tr>\n",
       "    <tr>\n",
       "      <th>4692559</th>\n",
       "      <td>NY</td>\n",
       "      <td>M</td>\n",
       "      <td>1928</td>\n",
       "      <td>Helen</td>\n",
       "      <td>10</td>\n",
       "    </tr>\n",
       "    <tr>\n",
       "      <th>5296964</th>\n",
       "      <td>PA</td>\n",
       "      <td>M</td>\n",
       "      <td>1924</td>\n",
       "      <td>Helen</td>\n",
       "      <td>15</td>\n",
       "    </tr>\n",
       "    <tr>\n",
       "      <th>5298915</th>\n",
       "      <td>PA</td>\n",
       "      <td>M</td>\n",
       "      <td>1927</td>\n",
       "      <td>Helen</td>\n",
       "      <td>10</td>\n",
       "    </tr>\n",
       "    <tr>\n",
       "      <th>5299463</th>\n",
       "      <td>PA</td>\n",
       "      <td>M</td>\n",
       "      <td>1928</td>\n",
       "      <td>Helen</td>\n",
       "      <td>13</td>\n",
       "    </tr>\n",
       "  </tbody>\n",
       "</table>\n",
       "</div>"
      ],
      "text/plain": [
       "        state sex  year   name  quantity\n",
       "4681767    NY   M  1911  Helen        10\n",
       "4690456    NY   M  1925  Helen        10\n",
       "4692559    NY   M  1928  Helen        10\n",
       "5296964    PA   M  1924  Helen        15\n",
       "5298915    PA   M  1927  Helen        10\n",
       "5299463    PA   M  1928  Helen        13"
      ]
     },
     "execution_count": 31,
     "metadata": {},
     "output_type": "execute_result"
    }
   ],
   "source": [
    "df_nombres[ (df_nombres['name'] == 'Helen') & (df_nombres['sex']=='M' ) & (df_nombres['quantity'] >= 10)]"
   ]
  },
  {
   "cell_type": "code",
   "execution_count": 33,
   "id": "b58896b7-75cc-484c-a051-ba6329e0d7ad",
   "metadata": {},
   "outputs": [],
   "source": [
    "df_helen =  df_nombres[ (df_nombres['name'] == 'Helen') & (df_nombres['sex']=='M' ) ]"
   ]
  },
  {
   "cell_type": "code",
   "execution_count": 35,
   "id": "62dca339-2ac6-495d-8a82-45e955857f6e",
   "metadata": {},
   "outputs": [
    {
     "data": {
      "text/html": [
       "<div>\n",
       "<style scoped>\n",
       "    .dataframe tbody tr th:only-of-type {\n",
       "        vertical-align: middle;\n",
       "    }\n",
       "\n",
       "    .dataframe tbody tr th {\n",
       "        vertical-align: top;\n",
       "    }\n",
       "\n",
       "    .dataframe thead th {\n",
       "        text-align: right;\n",
       "    }\n",
       "</style>\n",
       "<table border=\"1\" class=\"dataframe\">\n",
       "  <thead>\n",
       "    <tr style=\"text-align: right;\">\n",
       "      <th></th>\n",
       "      <th>state</th>\n",
       "      <th>sex</th>\n",
       "      <th>year</th>\n",
       "      <th>name</th>\n",
       "      <th>quantity</th>\n",
       "    </tr>\n",
       "  </thead>\n",
       "  <tbody>\n",
       "    <tr>\n",
       "      <th>247510</th>\n",
       "      <td>OH</td>\n",
       "      <td>M</td>\n",
       "      <td>1913</td>\n",
       "      <td>Helen</td>\n",
       "      <td>5</td>\n",
       "    </tr>\n",
       "    <tr>\n",
       "      <th>249358</th>\n",
       "      <td>OH</td>\n",
       "      <td>M</td>\n",
       "      <td>1917</td>\n",
       "      <td>Helen</td>\n",
       "      <td>5</td>\n",
       "    </tr>\n",
       "    <tr>\n",
       "      <th>251406</th>\n",
       "      <td>OH</td>\n",
       "      <td>M</td>\n",
       "      <td>1921</td>\n",
       "      <td>Helen</td>\n",
       "      <td>5</td>\n",
       "    </tr>\n",
       "    <tr>\n",
       "      <th>252898</th>\n",
       "      <td>OH</td>\n",
       "      <td>M</td>\n",
       "      <td>1924</td>\n",
       "      <td>Helen</td>\n",
       "      <td>7</td>\n",
       "    </tr>\n",
       "    <tr>\n",
       "      <th>254482</th>\n",
       "      <td>OH</td>\n",
       "      <td>M</td>\n",
       "      <td>1927</td>\n",
       "      <td>Helen</td>\n",
       "      <td>6</td>\n",
       "    </tr>\n",
       "    <tr>\n",
       "      <th>...</th>\n",
       "      <td>...</td>\n",
       "      <td>...</td>\n",
       "      <td>...</td>\n",
       "      <td>...</td>\n",
       "      <td>...</td>\n",
       "    </tr>\n",
       "    <tr>\n",
       "      <th>5300813</th>\n",
       "      <td>PA</td>\n",
       "      <td>M</td>\n",
       "      <td>1930</td>\n",
       "      <td>Helen</td>\n",
       "      <td>6</td>\n",
       "    </tr>\n",
       "    <tr>\n",
       "      <th>5301383</th>\n",
       "      <td>PA</td>\n",
       "      <td>M</td>\n",
       "      <td>1931</td>\n",
       "      <td>Helen</td>\n",
       "      <td>6</td>\n",
       "    </tr>\n",
       "    <tr>\n",
       "      <th>5301871</th>\n",
       "      <td>PA</td>\n",
       "      <td>M</td>\n",
       "      <td>1932</td>\n",
       "      <td>Helen</td>\n",
       "      <td>8</td>\n",
       "    </tr>\n",
       "    <tr>\n",
       "      <th>5304085</th>\n",
       "      <td>PA</td>\n",
       "      <td>M</td>\n",
       "      <td>1936</td>\n",
       "      <td>Helen</td>\n",
       "      <td>6</td>\n",
       "    </tr>\n",
       "    <tr>\n",
       "      <th>5677687</th>\n",
       "      <td>SC</td>\n",
       "      <td>M</td>\n",
       "      <td>1933</td>\n",
       "      <td>Helen</td>\n",
       "      <td>5</td>\n",
       "    </tr>\n",
       "  </tbody>\n",
       "</table>\n",
       "<p>96 rows × 5 columns</p>\n",
       "</div>"
      ],
      "text/plain": [
       "        state sex  year   name  quantity\n",
       "247510     OH   M  1913  Helen         5\n",
       "249358     OH   M  1917  Helen         5\n",
       "251406     OH   M  1921  Helen         5\n",
       "252898     OH   M  1924  Helen         7\n",
       "254482     OH   M  1927  Helen         6\n",
       "...       ...  ..   ...    ...       ...\n",
       "5300813    PA   M  1930  Helen         6\n",
       "5301383    PA   M  1931  Helen         6\n",
       "5301871    PA   M  1932  Helen         8\n",
       "5304085    PA   M  1936  Helen         6\n",
       "5677687    SC   M  1933  Helen         5\n",
       "\n",
       "[96 rows x 5 columns]"
      ]
     },
     "execution_count": 35,
     "metadata": {},
     "output_type": "execute_result"
    }
   ],
   "source": [
    "df_helen"
   ]
  },
  {
   "cell_type": "code",
   "execution_count": 39,
   "id": "742b5149-6a7b-4013-b0b3-36530afe9dc9",
   "metadata": {},
   "outputs": [],
   "source": [
    "df_estados = df_helen[['state', 'quantity']]"
   ]
  },
  {
   "cell_type": "code",
   "execution_count": 41,
   "id": "0482f214-ab5f-466a-ab3f-68bd699311b0",
   "metadata": {},
   "outputs": [
    {
     "data": {
      "text/html": [
       "<div>\n",
       "<style scoped>\n",
       "    .dataframe tbody tr th:only-of-type {\n",
       "        vertical-align: middle;\n",
       "    }\n",
       "\n",
       "    .dataframe tbody tr th {\n",
       "        vertical-align: top;\n",
       "    }\n",
       "\n",
       "    .dataframe thead th {\n",
       "        text-align: right;\n",
       "    }\n",
       "</style>\n",
       "<table border=\"1\" class=\"dataframe\">\n",
       "  <thead>\n",
       "    <tr style=\"text-align: right;\">\n",
       "      <th></th>\n",
       "      <th>state</th>\n",
       "      <th>quantity</th>\n",
       "    </tr>\n",
       "  </thead>\n",
       "  <tbody>\n",
       "    <tr>\n",
       "      <th>247510</th>\n",
       "      <td>OH</td>\n",
       "      <td>5</td>\n",
       "    </tr>\n",
       "    <tr>\n",
       "      <th>249358</th>\n",
       "      <td>OH</td>\n",
       "      <td>5</td>\n",
       "    </tr>\n",
       "    <tr>\n",
       "      <th>251406</th>\n",
       "      <td>OH</td>\n",
       "      <td>5</td>\n",
       "    </tr>\n",
       "    <tr>\n",
       "      <th>252898</th>\n",
       "      <td>OH</td>\n",
       "      <td>7</td>\n",
       "    </tr>\n",
       "    <tr>\n",
       "      <th>254482</th>\n",
       "      <td>OH</td>\n",
       "      <td>6</td>\n",
       "    </tr>\n",
       "    <tr>\n",
       "      <th>...</th>\n",
       "      <td>...</td>\n",
       "      <td>...</td>\n",
       "    </tr>\n",
       "    <tr>\n",
       "      <th>5300813</th>\n",
       "      <td>PA</td>\n",
       "      <td>6</td>\n",
       "    </tr>\n",
       "    <tr>\n",
       "      <th>5301383</th>\n",
       "      <td>PA</td>\n",
       "      <td>6</td>\n",
       "    </tr>\n",
       "    <tr>\n",
       "      <th>5301871</th>\n",
       "      <td>PA</td>\n",
       "      <td>8</td>\n",
       "    </tr>\n",
       "    <tr>\n",
       "      <th>5304085</th>\n",
       "      <td>PA</td>\n",
       "      <td>6</td>\n",
       "    </tr>\n",
       "    <tr>\n",
       "      <th>5677687</th>\n",
       "      <td>SC</td>\n",
       "      <td>5</td>\n",
       "    </tr>\n",
       "  </tbody>\n",
       "</table>\n",
       "<p>96 rows × 2 columns</p>\n",
       "</div>"
      ],
      "text/plain": [
       "        state  quantity\n",
       "247510     OH         5\n",
       "249358     OH         5\n",
       "251406     OH         5\n",
       "252898     OH         7\n",
       "254482     OH         6\n",
       "...       ...       ...\n",
       "5300813    PA         6\n",
       "5301383    PA         6\n",
       "5301871    PA         8\n",
       "5304085    PA         6\n",
       "5677687    SC         5\n",
       "\n",
       "[96 rows x 2 columns]"
      ]
     },
     "execution_count": 41,
     "metadata": {},
     "output_type": "execute_result"
    }
   ],
   "source": [
    "df_estados"
   ]
  },
  {
   "cell_type": "code",
   "execution_count": 45,
   "id": "8ded7e1c-2ca8-4f9b-90cd-573ad48fc1d0",
   "metadata": {},
   "outputs": [],
   "source": [
    "df_quantityxstate = df_estados.groupby('state').agg('sum')"
   ]
  },
  {
   "cell_type": "code",
   "execution_count": 47,
   "id": "bb890d02-a574-414e-be1f-94477391eceb",
   "metadata": {},
   "outputs": [
    {
     "data": {
      "text/html": [
       "<div>\n",
       "<style scoped>\n",
       "    .dataframe tbody tr th:only-of-type {\n",
       "        vertical-align: middle;\n",
       "    }\n",
       "\n",
       "    .dataframe tbody tr th {\n",
       "        vertical-align: top;\n",
       "    }\n",
       "\n",
       "    .dataframe thead th {\n",
       "        text-align: right;\n",
       "    }\n",
       "</style>\n",
       "<table border=\"1\" class=\"dataframe\">\n",
       "  <thead>\n",
       "    <tr style=\"text-align: right;\">\n",
       "      <th></th>\n",
       "      <th>quantity</th>\n",
       "    </tr>\n",
       "    <tr>\n",
       "      <th>state</th>\n",
       "      <th></th>\n",
       "    </tr>\n",
       "  </thead>\n",
       "  <tbody>\n",
       "    <tr>\n",
       "      <th>AL</th>\n",
       "      <td>6</td>\n",
       "    </tr>\n",
       "    <tr>\n",
       "      <th>AR</th>\n",
       "      <td>5</td>\n",
       "    </tr>\n",
       "    <tr>\n",
       "      <th>CA</th>\n",
       "      <td>11</td>\n",
       "    </tr>\n",
       "    <tr>\n",
       "      <th>DC</th>\n",
       "      <td>9</td>\n",
       "    </tr>\n",
       "    <tr>\n",
       "      <th>GA</th>\n",
       "      <td>5</td>\n",
       "    </tr>\n",
       "    <tr>\n",
       "      <th>IL</th>\n",
       "      <td>35</td>\n",
       "    </tr>\n",
       "    <tr>\n",
       "      <th>IN</th>\n",
       "      <td>10</td>\n",
       "    </tr>\n",
       "    <tr>\n",
       "      <th>KY</th>\n",
       "      <td>27</td>\n",
       "    </tr>\n",
       "    <tr>\n",
       "      <th>LA</th>\n",
       "      <td>11</td>\n",
       "    </tr>\n",
       "    <tr>\n",
       "      <th>MA</th>\n",
       "      <td>23</td>\n",
       "    </tr>\n",
       "    <tr>\n",
       "      <th>MI</th>\n",
       "      <td>16</td>\n",
       "    </tr>\n",
       "    <tr>\n",
       "      <th>MN</th>\n",
       "      <td>5</td>\n",
       "    </tr>\n",
       "    <tr>\n",
       "      <th>NC</th>\n",
       "      <td>10</td>\n",
       "    </tr>\n",
       "    <tr>\n",
       "      <th>NJ</th>\n",
       "      <td>10</td>\n",
       "    </tr>\n",
       "    <tr>\n",
       "      <th>NY</th>\n",
       "      <td>165</td>\n",
       "    </tr>\n",
       "    <tr>\n",
       "      <th>OH</th>\n",
       "      <td>50</td>\n",
       "    </tr>\n",
       "    <tr>\n",
       "      <th>PA</th>\n",
       "      <td>156</td>\n",
       "    </tr>\n",
       "    <tr>\n",
       "      <th>SC</th>\n",
       "      <td>5</td>\n",
       "    </tr>\n",
       "    <tr>\n",
       "      <th>TX</th>\n",
       "      <td>31</td>\n",
       "    </tr>\n",
       "    <tr>\n",
       "      <th>VA</th>\n",
       "      <td>12</td>\n",
       "    </tr>\n",
       "  </tbody>\n",
       "</table>\n",
       "</div>"
      ],
      "text/plain": [
       "       quantity\n",
       "state          \n",
       "AL            6\n",
       "AR            5\n",
       "CA           11\n",
       "DC            9\n",
       "GA            5\n",
       "IL           35\n",
       "IN           10\n",
       "KY           27\n",
       "LA           11\n",
       "MA           23\n",
       "MI           16\n",
       "MN            5\n",
       "NC           10\n",
       "NJ           10\n",
       "NY          165\n",
       "OH           50\n",
       "PA          156\n",
       "SC            5\n",
       "TX           31\n",
       "VA           12"
      ]
     },
     "execution_count": 47,
     "metadata": {},
     "output_type": "execute_result"
    }
   ],
   "source": [
    "df_quantityxstate"
   ]
  },
  {
   "cell_type": "code",
   "execution_count": null,
   "id": "ac8d6b21-385a-4f2e-a045-e06c7c27b8e0",
   "metadata": {},
   "outputs": [],
   "source": []
  }
 ],
 "metadata": {
  "kernelspec": {
   "display_name": "Python 3 (ipykernel)",
   "language": "python",
   "name": "python3"
  },
  "language_info": {
   "codemirror_mode": {
    "name": "ipython",
    "version": 3
   },
   "file_extension": ".py",
   "mimetype": "text/x-python",
   "name": "python",
   "nbconvert_exporter": "python",
   "pygments_lexer": "ipython3",
   "version": "3.12.4"
  }
 },
 "nbformat": 4,
 "nbformat_minor": 5
}
