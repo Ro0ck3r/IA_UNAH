{
 "cells": [
  {
   "cell_type": "code",
   "execution_count": 2,
   "id": "326cab58-7973-420b-a2a6-274454cbb7fd",
   "metadata": {},
   "outputs": [],
   "source": [
    "import pandas as pd\n",
    "import numpy as py\n",
    "\n",
    "\n",
    "df_nombres = pd.read_csv('C:/users/tavog/nombres.csv')"
   ]
  },
  {
   "cell_type": "code",
   "execution_count": 4,
   "id": "3e08aac5-5c9f-4425-8cec-9ff8c7222e78",
   "metadata": {},
   "outputs": [],
   "source": [
    "df_helen = df_nombres[df_nombres['name'] == 'Helen']"
   ]
  },
  {
   "cell_type": "code",
   "execution_count": 8,
   "id": "4827be6f-5d4d-41cf-b309-dd0a6b0afcbe",
   "metadata": {},
   "outputs": [
    {
     "name": "stdout",
     "output_type": "stream",
     "text": [
      "El anio donde mas nacieron Helen, sumando todos los estados de USA fue :       quantity\n",
      "year          \n",
      "1918     36184\n",
      "El anio donde mas nacieron Helen, solo teniendo en cuenta el mayor valor de un anio fue : 5181681    1918\n",
      "Name: year, dtype: int64\n"
     ]
    }
   ],
   "source": [
    "df_helen_years = df_helen[['year','quantity']]\n",
    "df_cantidadxyear = df_helen_years.groupby('year').agg('sum')\n",
    "#df1 = df.loc[df.groupby(['Continent'])['Surface'].idxmax()].reset_index(drop = True)\n",
    "\n",
    "anioMax = df_cantidadxyear.loc[df_cantidadxyear.idxmax()]\n",
    "#print(df_cantidadxyear.quantity.max())\n",
    "#print(anioMax)\n",
    "#Cual es el anio con mayor cantidad de registros de helen\n",
    "\n",
    "print(\"El anio donde mas nacieron Helen, sumando todos los estados de USA fue :\", anioMax.loc[:,])\n",
    "CantMax = df_helen.quantity.max()\n",
    "df = df_helen[(df_helen['quantity']== CantMax)]\n",
    "#print(df.gasto_total.max())\n",
    "R1 = df.loc[:,'year']\n",
    "print (\"El anio donde mas nacieron Helen, solo teniendo en cuenta el mayor valor de un anio fue :\", R1)"
   ]
  },
  {
   "cell_type": "code",
   "execution_count": 74,
   "id": "a57dd551-8411-4c56-8b86-a64cc59cdaa3",
   "metadata": {},
   "outputs": [
    {
     "name": "stdout",
     "output_type": "stream",
     "text": [
      "El estado con mayor cantidad de helen registrados fue en :        quantity\n",
      "state          \n",
      "PA       102521\n"
     ]
    }
   ],
   "source": [
    "#Cual es el estado que estado tiene mejor cantidad de helen \n",
    "df_helenxestado = df_helen[['state', 'quantity']]\n",
    "df_cantidadxstate = df_helenxestado.groupby('state').agg('sum')\n",
    "CantMax = df_cantidadxstate.quantity.max()\n",
    "df_soft_cantidadxstate = df_cantidadxstate.sort_values('quantity' , ascending = False)\n",
    "print (\"El estado con mayor cantidad de helen registrados fue en :\", df_soft_cantidadxstate.head(1))"
   ]
  },
  {
   "cell_type": "code",
   "execution_count": 104,
   "id": "78568866-5a48-4286-8e0b-fddc574d9cdd",
   "metadata": {},
   "outputs": [
    {
     "name": "stdout",
     "output_type": "stream",
     "text": [
      "La Cantidad de personas con nombre helen nacidas entre el 1990 y el 2000 es de :  8892  personas\n"
     ]
    }
   ],
   "source": [
    "#Cuantos helen nacieron entre 1990 y 2000\n",
    "df_helen90_2000 = df_helen[(df_helen['year'] >= 1990) & (df_helen['year'] <= 2000)]\n",
    "cantidadhelen90_2000 = df_helen90_2000.quantity.sum()\n",
    "print(\"La Cantidad de personas con nombre helen nacidas entre el 1990 y el 2000 es de : \",cantidadhelen90_2000 , \" personas\")"
   ]
  },
  {
   "cell_type": "code",
   "execution_count": 106,
   "id": "a6ab6ae1-53f4-411a-a93e-9b6b57d03088",
   "metadata": {},
   "outputs": [
    {
     "name": "stdout",
     "output_type": "stream",
     "text": [
      "La Cantidad de personas con nombre helen en la florida es de :  10726 Personas \n"
     ]
    }
   ],
   "source": [
    "#En que anio hubieron mas helen en el estado de florida\n",
    "df_helenxfl = df_helenxestado[df_helenxestado['state']== 'FL']\n",
    "cantidadhelenFL = df_helenxfl.quantity.sum()\n",
    "print(\"La Cantidad de personas con nombre helen en la florida es de : \",cantidadhelenFL , \" Personas \")"
   ]
  }
 ],
 "metadata": {
  "kernelspec": {
   "display_name": "Python 3 (ipykernel)",
   "language": "python",
   "name": "python3"
  },
  "language_info": {
   "codemirror_mode": {
    "name": "ipython",
    "version": 3
   },
   "file_extension": ".py",
   "mimetype": "text/x-python",
   "name": "python",
   "nbconvert_exporter": "python",
   "pygments_lexer": "ipython3",
   "version": "3.12.4"
  }
 },
 "nbformat": 4,
 "nbformat_minor": 5
}
